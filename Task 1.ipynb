{
 "cells": [
  {
   "cell_type": "code",
   "execution_count": 3,
   "id": "e834dbed-b0db-4217-ad2b-775d318d0163",
   "metadata": {},
   "outputs": [
    {
     "name": "stdout",
     "output_type": "stream",
     "text": [
      "Please enter the forest map as a grid of 0s and 1s.\n",
      "Example format: 1 0 0, 1 1 0, 0 0 1\n"
     ]
    },
    {
     "name": "stdin",
     "output_type": "stream",
     "text": [
      "Enter the map rows (separated by commas):  1 0 0 0 1,1 0 1 1 1,1 1 0 1 1,1 0 1 1 0,0 1 0 1 1\n",
      "Enter the size of the extraction zone (m):  3\n",
      "Enter the center row (0-based index):  2\n",
      "Enter the center column (0-based index):  3\n"
     ]
    },
    {
     "name": "stdout",
     "output_type": "stream",
     "text": [
      "\n",
      "Center of Operations: (2, 3)\n",
      "Extraction Zone (3x3):\n",
      "[1, 1, 1]\n",
      "[0, 1, 1]\n",
      "[1, 1, 0]\n",
      "\n",
      "Total Lal Chandan Trees in Zone: 7\n"
     ]
    }
   ],
   "source": [
    "try:\n",
    "    print(\"Please enter the forest map as a grid of 0s and 1s.\")\n",
    "    print(\"Example format: 1 0 0, 1 1 0, 0 0 1\")\n",
    "    user_map_str = input(\"Enter the map rows (separated by commas): \")\n",
    "    forest_map = []\n",
    "    rows_list = user_map_str.split(',')\n",
    "    for row_str in rows_list:\n",
    "        row = [int(x) for x in row_str.strip().split()]\n",
    "        forest_map.append(row)\n",
    "    m = int(input(\"Enter the size of the extraction zone (m): \"))\n",
    "    center_row = int(input(\"Enter the center row (0-based index): \"))\n",
    "    center_col = int(input(\"Enter the center column (0-based index): \"))\n",
    "    center = (center_row, center_col)\n",
    "    \n",
    "except (ValueError, IndexError) as e:\n",
    "    print(\"\\nInvalid input. Please make sure you follow the format. The program will now exit.\")\n",
    "    exit()\n",
    "start_row = center_row - m // 2\n",
    "start_col = center_col - m // 2\n",
    "\n",
    "tree_count = 0\n",
    "extraction_zone = []\n",
    "\n",
    "for i in range(m):\n",
    "    row = []\n",
    "    for j in range(m):\n",
    "        map_row = start_row + i\n",
    "        map_col = start_col + j\n",
    "\n",
    "        if 0 <= map_row < len(forest_map) and 0 <= map_col < len(forest_map[0]):\n",
    "            value = forest_map[map_row][map_col]\n",
    "            row.append(value)\n",
    "            if value == 1:\n",
    "                tree_count += 1\n",
    "        else:\n",
    "            row.append(0)\n",
    "\n",
    "    extraction_zone.append(row)\n",
    "print(f\"\\nCenter of Operations: {center}\")\n",
    "print(f\"Extraction Zone ({m}x{m}):\")\n",
    "for row in extraction_zone:\n",
    "    print(row)\n",
    "print(f\"\\nTotal Lal Chandan Trees in Zone: {tree_count}\")"
   ]
  },
  {
   "cell_type": "code",
   "execution_count": 4,
   "id": "1a422dad-2d0f-4365-8454-463b593fcc22",
   "metadata": {},
   "outputs": [
    {
     "name": "stdout",
     "output_type": "stream",
     "text": [
      "--- IPL Dream Team Challenge Result ---\n",
      "Goal: Find the team of 4 players with the maximum Cost Function score.\n",
      "Best Team Found: Bumrah, Jadeja, Siraj, DK\n",
      "Highest Net Score (Cost Function Value): 9\n",
      "Breakdown: (11 Unique Strengths - 2 Unique Weaknesses)\n"
     ]
    }
   ],
   "source": [
    "# --- 1. Data Representation (Your Star-Studded Squad) ---\n",
    "# A dictionary is used to store player data. Keys are player names.\n",
    "# Values are dictionaries holding lists of strengths and weaknesses (The Cost Components).\n",
    "players_data = {\n",
    "    'Virat Kohli': {'s': ['chase_master', 'fast_bowling_destroyer', 'fielding'], 'w': ['left_arm_spin']},\n",
    "    'Rahul': {'s': ['opener', 'power_play', 'wicketkeeping'], 'w': ['pressure', 'death_bowling']},\n",
    "    'Bumrah': {'s': ['death_bowling', 'yorkers', 'economy'], 'w': ['batting']},\n",
    "    'Jadeja': {'s': ['power_hitting', 'off_spin', 'fielding'], 'w': []},\n",
    "    'Maxwell': {'s': ['spin_bowling', 'fielding'], 'w': ['pace_bounce', 'consistency']},\n",
    "    'Siraj': {'s': ['swing_bowling', 'new_ball'], 'w': ['batting']},\n",
    "    'Shreyas': {'s': ['middle_order', 'spin_hitter'], 'w': ['express_pace', 'short_ball']},\n",
    "    'Chahal': {'s': ['leg_spin', 'wicket_taker'], 'w': ['fielding', 'batting', 'expensive']},\n",
    "    'DK': {'s': ['finisher', 'wicketkeeping', 'experience'], 'w': ['poor_wicketkeeping']},\n",
    "    'Faf': {'s': ['opener', 'experience', 'fielding'], 'w': ['slow_starter']}\n",
    "}\n",
    "\n",
    "\n",
    "k = 4 \n",
    "import itertools\n",
    "\n",
    "\n",
    "best_team = ()       \n",
    "best_net_score = -100 \n",
    "\n",
    "all_player_names = list(players_data.keys()) \n",
    "all_teams_to_check = itertools.combinations(all_player_names, k) \n",
    "\n",
    "for team in all_teams_to_check:\n",
    "    \n",
    "    all_strengths_raw = []\n",
    "    all_weaknesses_raw = []\n",
    "\n",
    "    for player_name in team:\n",
    "        player_data = players_data[player_name]\n",
    "        \n",
    "        all_strengths_raw.extend(player_data['s'])\n",
    "        all_weaknesses_raw.extend(player_data['w'])\n",
    "\n",
    "   \n",
    "    unique_strengths_count = len(set(all_strengths_raw))\n",
    "    unique_weaknesses_count = len(set(all_weaknesses_raw))\n",
    "    \n",
    "    current_team_net_score = unique_strengths_count - unique_weaknesses_count\n",
    "\n",
    "\n",
    "    if current_team_net_score > best_net_score:\n",
    "        best_net_score = current_team_net_score\n",
    "        best_team = team\n",
    "\n",
    "print(f\"--- IPL Dream Team Challenge Result ---\")\n",
    "print(f\"Goal: Find the team of {k} players with the maximum Cost Function score.\")\n",
    "print(f\"Best Team Found: {', '.join(best_team)}\")\n",
    "print(f\"Highest Net Score (Cost Function Value): {best_net_score}\")\n",
    "\n",
    "best_team_strengths = []\n",
    "best_team_weaknesses = []\n",
    "for player_name in best_team:\n",
    "    best_team_strengths.extend(players_data[player_name]['s'])\n",
    "    best_team_weaknesses.extend(players_data[player_name]['w'])\n",
    "    \n",
    "final_unique_s = len(set(best_team_strengths))\n",
    "final_unique_w = len(set(best_team_weaknesses))\n",
    "print(f\"Breakdown: ({final_unique_s} Unique Strengths - {final_unique_w} Unique Weaknesses)\")"
   ]
  },
  {
   "cell_type": "code",
   "execution_count": null,
   "id": "46be8831-8eeb-47bc-b24c-189e3ef8f587",
   "metadata": {},
   "outputs": [],
   "source": []
  }
 ],
 "metadata": {
  "kernelspec": {
   "display_name": "Python 3 (ipykernel)",
   "language": "python",
   "name": "python3"
  },
  "language_info": {
   "codemirror_mode": {
    "name": "ipython",
    "version": 3
   },
   "file_extension": ".py",
   "mimetype": "text/x-python",
   "name": "python",
   "nbconvert_exporter": "python",
   "pygments_lexer": "ipython3",
   "version": "3.13.5"
  }
 },
 "nbformat": 4,
 "nbformat_minor": 5
}
